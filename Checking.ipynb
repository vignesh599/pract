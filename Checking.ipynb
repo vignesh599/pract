{
 "cells": [
  {
   "cell_type": "code",
   "execution_count": 3,
   "id": "c9bd9449-cbfa-4e25-b616-4b98214c9200",
   "metadata": {},
   "outputs": [
    {
     "name": "stdout",
     "output_type": "stream",
     "text": [
      "sample\n"
     ]
    }
   ],
   "source": [
    "print (\"sample\")"
   ]
  },
  {
   "cell_type": "code",
   "execution_count": null,
   "id": "7e6f90f0-68d0-48fa-8c05-7b393593cdf1",
   "metadata": {},
   "outputs": [],
   "source": []
  }
 ],
 "metadata": {
  "kernelspec": {
   "display_name": "Python 3 (ipykernel)",
   "language": "python",
   "name": "python3"
  },
  "language_info": {
   "codemirror_mode": {
    "name": "ipython",
    "version": 3
   },
   "file_extension": ".py",
   "mimetype": "text/x-python",
   "name": "python",
   "nbconvert_exporter": "python",
   "pygments_lexer": "ipython3",
   "version": "3.12.5"
  }
 },
 "nbformat": 4,
 "nbformat_minor": 5
}
